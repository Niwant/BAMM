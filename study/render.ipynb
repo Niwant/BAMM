{
 "cells": [
  {
   "cell_type": "code",
   "execution_count": 1,
   "metadata": {},
   "outputs": [],
   "source": [
    "import sys\n",
    "sys.path.append('../')\n",
    "import os\n",
    "os.chdir('../')\n",
    "%reload_ext autoreload\n",
    "%autoreload 2\n",
    "import matplotlib.pyplot as plt\n",
    "%matplotlib notebook\n",
    "%matplotlib inline\n",
    "os.environ[\"CUDA_VISIBLE_DEVICES\"]=\"1\""
   ]
  },
  {
   "cell_type": "code",
   "execution_count": 2,
   "metadata": {},
   "outputs": [
    {
     "name": "stderr",
     "output_type": "stream",
     "text": [
      "/home/epinyoan/miniconda3/envs/momask/lib/python3.7/site-packages/tqdm/auto.py:22: TqdmWarning: IProgress not found. Please update jupyter and ipywidgets. See https://ipywidgets.readthedocs.io/en/stable/user_install.html\n",
      "  from .autonotebook import tqdm as notebook_tqdm\n"
     ]
    }
   ],
   "source": [
    "import os\n",
    "import torch\n",
    "import numpy as np\n",
    "\n",
    "from torch.utils.data import DataLoader\n",
    "from os.path import join as pjoin\n",
    "\n",
    "from models.mask_transformer.transformer import MaskTransformer\n",
    "from models.mask_transformer.transformer_trainer import MaskTransformerTrainer\n",
    "from models.vq.model import RVQVAE\n",
    "\n",
    "from options.train_option import TrainT2MOptions\n",
    "\n",
    "from utils.plot_script import plot_3d_motion\n",
    "from utils.motion_process import recover_from_ric\n",
    "from utils.get_opt import get_opt\n",
    "from utils.fixseed import fixseed\n",
    "from utils.paramUtil import t2m_kinematic_chain, kit_kinematic_chain\n",
    "\n",
    "from data.t2m_dataset import Text2MotionDataset\n",
    "from motion_loaders.dataset_motion_loader import get_dataset_motion_loader\n",
    "from models.t2m_eval_wrapper import EvaluatorModelWrapper\n",
    "from exit.utils import visualize_2motions"
   ]
  },
  {
   "cell_type": "code",
   "execution_count": 3,
   "metadata": {},
   "outputs": [
    {
     "name": "stdout",
     "output_type": "stream",
     "text": [
      "------------ Options -------------\n",
      "batch_size: 64\n",
      "checkpoints_dir: ./log/t2m\n",
      "cond_drop_prob: 0.1\n",
      "dataset_name: t2m\n",
      "dropout: 0.2\n",
      "eval_every_e: 10\n",
      "ff_size: 1024\n",
      "force_mask: False\n",
      "gamma: 0.1\n",
      "gpu_id: -1\n",
      "gumbel_sample: False\n",
      "is_continue: False\n",
      "is_train: True\n",
      "latent_dim: 384\n",
      "log_every: 50\n",
      "lr: 0.0002\n",
      "max_epoch: 500\n",
      "max_motion_length: 196\n",
      "milestones: [50000]\n",
      "n_heads: 6\n",
      "n_layers: 8\n",
      "name: 2024-05-22-20-06-48_t2m_nlayer8_nhead6_ld384_ff1024_cdp0.1_rvq6ns\n",
      "save_latest: 500\n",
      "seed: 3407\n",
      "share_weight: False\n",
      "trans: official\n",
      "unit_length: 4\n",
      "vq_name: rvq_nq1_dc512_nc512\n",
      "warm_up_iter: 2000\n",
      "-------------- End ----------------\n"
     ]
    },
    {
     "data": {
      "text/plain": [
       "'2024-05-22-20-06-48_t2m_nlayer8_nhead6_ld384_ff1024_cdp0.1_rvq6ns'"
      ]
     },
     "execution_count": 3,
     "metadata": {},
     "output_type": "execute_result"
    }
   ],
   "source": [
    "from options.train_option import TrainT2MOptions\n",
    "parser = TrainT2MOptions()\n",
    "opt = parser.parse(is_mock=True)\n",
    "opt.name"
   ]
  },
  {
   "cell_type": "code",
   "execution_count": 4,
   "metadata": {},
   "outputs": [],
   "source": [
    "opt.data_root = './dataset/HumanML3D'\n",
    "opt.motion_dir = pjoin(opt.data_root, 'new_joint_vecs')\n",
    "opt.joints_num = 22\n",
    "opt.max_motion_len = 55\n",
    "dim_pose = 263\n",
    "radius = 4\n",
    "fps = 20\n",
    "kinematic_chain = t2m_kinematic_chain\n",
    "dataset_opt_path = './checkpoints/t2m/Comp_v6_KLD005/opt.txt'\n"
   ]
  },
  {
   "cell_type": "code",
   "execution_count": 5,
   "metadata": {},
   "outputs": [
    {
     "name": "stdout",
     "output_type": "stream",
     "text": [
      "Reading /home/epinyoan/git/momask-codes/checkpoints/t2m/rvq_nq6_dc512_nc512_noshare_qdp0.2/opt.txt\n"
     ]
    },
    {
     "name": "stdout",
     "output_type": "stream",
     "text": [
      "Loading VQ Model rvq_nq6_dc512_nc512_noshare_qdp0.2\n"
     ]
    }
   ],
   "source": [
    "opt.vq_name = 'rvq_nq6_dc512_nc512_noshare_qdp0.2'\n",
    "vq_opt = get_opt(f'/home/epinyoan/git/momask-codes/checkpoints/t2m/{opt.vq_name}/opt.txt', 'cuda')\n",
    "vq_model = RVQVAE(vq_opt,\n",
    "                dim_pose,\n",
    "                vq_opt.nb_code,\n",
    "                vq_opt.code_dim,\n",
    "                vq_opt.output_emb_width,\n",
    "                vq_opt.down_t,\n",
    "                vq_opt.stride_t,\n",
    "                vq_opt.width,\n",
    "                vq_opt.depth,\n",
    "                vq_opt.dilation_growth_rate,\n",
    "                vq_opt.vq_act,\n",
    "                vq_opt.vq_norm)\n",
    "ckpt = torch.load(pjoin(vq_opt.checkpoints_dir, vq_opt.dataset_name, vq_opt.name, 'model', 'net_best_fid.tar'),\n",
    "                        map_location='cpu')\n",
    "model_key = 'vq_model' if 'vq_model' in ckpt else 'net'\n",
    "vq_model.load_state_dict(ckpt[model_key])\n",
    "print(f'Loading VQ Model {opt.vq_name}')"
   ]
  },
  {
   "cell_type": "code",
   "execution_count": 6,
   "metadata": {},
   "outputs": [
    {
     "name": "stdout",
     "output_type": "stream",
     "text": [
      "latent_dim: 384, ff_size: 1024, nlayers: 8, nheads: 6, dropout: 0.2\n",
      "Loading CLIP...\n"
     ]
    }
   ],
   "source": [
    "opt.log_dir = pjoin('./log/t2m/', opt.dataset_name, opt.name)\n",
    "opt.device = 'cuda' #torch.device(\"cpu\" if opt.gpu_id == -1 else \"cuda:\" + str(opt.gpu_id))\n",
    "opt.text_dir = pjoin(opt.data_root, 'texts')\n",
    "opt.num_tokens = vq_opt.nb_code\n",
    "clip_version = 'ViT-B/32'\n",
    "# opt.trans = 't2mgpt'\n",
    "opt.trans = 'official'\n",
    "\n",
    "t2m_transformer = MaskTransformer(code_dim=vq_opt.code_dim,\n",
    "                                      cond_mode='text',\n",
    "                                      latent_dim=opt.latent_dim,\n",
    "                                      ff_size=opt.ff_size,\n",
    "                                      num_layers=opt.n_layers,\n",
    "                                      num_heads=opt.n_heads,\n",
    "                                      dropout=opt.dropout,\n",
    "                                      clip_dim=512,\n",
    "                                      cond_drop_prob=opt.cond_drop_prob,\n",
    "                                      clip_version=clip_version,\n",
    "                                      opt=opt)\n",
    "# t2m_transformer.load_and_freeze_token_emb(vq_model.quantizer_upper.codebooks[0], vq_model.quantizer_lower.codebooks[1])"
   ]
  },
  {
   "cell_type": "code",
   "execution_count": 7,
   "metadata": {},
   "outputs": [],
   "source": [
    "model_dir = '/home/epinyoan/git/momask-codes/log/t2m/t2m/2024-02-14-14-27-29_8_GPT_officialTrans_2iterPrdictEnd/model/net_best_fid.tar'\n",
    "checkpoint = torch.load(model_dir, map_location='cuda')\n",
    "missing_keys, unexpected_keys = t2m_transformer.load_state_dict(checkpoint['t2m_transformer'], strict=False)"
   ]
  },
  {
   "cell_type": "code",
   "execution_count": null,
   "metadata": {},
   "outputs": [],
   "source": [
    "mean = np.load(pjoin('./checkpoints/', opt.dataset_name, opt.vq_name, 'meta', 'mean.npy'))\n",
    "std = np.load(pjoin('./checkpoints/', opt.dataset_name, opt.vq_name, 'meta', 'std.npy'))\n",
    "\n",
    "train_split_file = pjoin(opt.data_root, 'train.txt')\n",
    "val_split_file = pjoin(opt.data_root, 'val.txt')\n",
    "\n",
    "train_dataset = Text2MotionDataset(opt, mean, std, train_split_file)\n",
    "val_dataset = Text2MotionDataset(opt, mean, std, val_split_file)\n",
    "\n",
    "train_loader = DataLoader(train_dataset, batch_size=opt.batch_size, num_workers=4, shuffle=True, drop_last=True)\n",
    "val_loader = DataLoader(val_dataset, batch_size=opt.batch_size, num_workers=4, shuffle=True, drop_last=True)\n",
    "\n",
    "eval_val_loader, _ = get_dataset_motion_loader(dataset_opt_path, 32, 'test', device=opt.device)\n",
    "\n",
    "wrapper_opt = get_opt(dataset_opt_path, torch.device('cuda'))\n",
    "eval_wrapper = EvaluatorModelWrapper(wrapper_opt)\n"
   ]
  },
  {
   "cell_type": "code",
   "execution_count": 9,
   "metadata": {},
   "outputs": [
    {
     "data": {
      "text/plain": [
       "''"
      ]
     },
     "execution_count": 9,
     "metadata": {},
     "output_type": "execute_result"
    }
   ],
   "source": [
    "t2m_transformer.to(opt.device)\n",
    "vq_model.to(opt.device)\n",
    "''"
   ]
  },
  {
   "cell_type": "code",
   "execution_count": 10,
   "metadata": {},
   "outputs": [
    {
     "name": "stdout",
     "output_type": "stream",
     "text": [
      "Reading /home/epinyoan/git/momask-codes/checkpoints/t2m/tres_nlayer8_ld384_ff1024_rvq6ns_cdp0.2_sw/opt.txt\n",
      "latent_dim: 384, ff_size: 1024, nlayers: 8, nheads: 6, dropout: 0.2\n",
      "Loading CLIP...\n",
      "Loading Residual Transformer tres_nlayer8_ld384_ff1024_rvq6ns_cdp0.2_sw from epoch 440!\n"
     ]
    }
   ],
   "source": [
    "from models.mask_transformer.transformer import ResidualTransformer\n",
    "def load_res_model(res_opt):\n",
    "    res_opt.num_quantizers = vq_opt.num_quantizers\n",
    "    res_opt.num_tokens = vq_opt.nb_code\n",
    "    res_transformer = ResidualTransformer(code_dim=vq_opt.code_dim,\n",
    "                                            cond_mode='text',\n",
    "                                            latent_dim=res_opt.latent_dim,\n",
    "                                            ff_size=res_opt.ff_size,\n",
    "                                            num_layers=res_opt.n_layers,\n",
    "                                            num_heads=res_opt.n_heads,\n",
    "                                            dropout=res_opt.dropout,\n",
    "                                            clip_dim=512,\n",
    "                                            shared_codebook=vq_opt.shared_codebook,\n",
    "                                            cond_drop_prob=res_opt.cond_drop_prob,\n",
    "                                            # codebook=vq_model.quantizer.codebooks[0] if opt.fix_token_emb else None,\n",
    "                                            share_weight=res_opt.share_weight,\n",
    "                                            clip_version=clip_version,\n",
    "                                            opt=res_opt)\n",
    "\n",
    "    ckpt = torch.load(pjoin(res_opt.checkpoints_dir, res_opt.dataset_name, res_opt.name, 'model', 'net_best_fid.tar'),\n",
    "                      map_location=opt.device)\n",
    "    missing_keys, unexpected_keys = res_transformer.load_state_dict(ckpt['res_transformer'], strict=False)\n",
    "    assert len(unexpected_keys) == 0\n",
    "    assert all([k.startswith('clip_model.') for k in missing_keys])\n",
    "    print(f'Loading Residual Transformer {res_opt.name} from epoch {ckpt[\"ep\"]}!')\n",
    "    return res_transformer\n",
    "res_opt = get_opt('/home/epinyoan/git/momask-codes/checkpoints/t2m/tres_nlayer8_ld384_ff1024_rvq6ns_cdp0.2_sw/opt.txt', device=opt.device)\n",
    "res_model = load_res_model(res_opt).cuda()"
   ]
  },
  {
   "cell_type": "code",
   "execution_count": 11,
   "metadata": {},
   "outputs": [
    {
     "data": {
      "text/plain": [
       "''"
      ]
     },
     "execution_count": 11,
     "metadata": {},
     "output_type": "execute_result"
    }
   ],
   "source": [
    "t2m_transformer.eval()\n",
    "vq_model.eval()\n",
    "''"
   ]
  },
  {
   "cell_type": "markdown",
   "metadata": {},
   "source": [
    "### Text to Motion (from dataset)"
   ]
  },
  {
   "cell_type": "code",
   "execution_count": null,
   "metadata": {},
   "outputs": [],
   "source": [
    "__break__ = False\n",
    "while __break__ is False:\n",
    "    for word_embeddings, pos_one_hots, clip_text, sent_len, pose, m_length, token in eval_val_loader:\n",
    "    # for clip_text, pose, m_length in train_loader:\n",
    "        for i, text in enumerate(clip_text):\n",
    "            # if True: #'cartwheel' in text:\n",
    "            # if 'a person walks forward then turns completely around and does a cartwheel.' in text:\n",
    "            # if 'a person who is standing moves his body and shoulders slightly to the left and returns to his original position.' in text:\n",
    "            # if 'person carefully kneels down. first with right leg, then with the left one.' in text:\n",
    "            # if 'a person walks forward then turns completely around and does a cartwheel.' in text:\n",
    "            # if 'a person with their arms out from their sides, walks to the left trying to balance.' in text:\n",
    "            # if 'a person walks forward, then is pushed to their left and then returns to walking in the line they were.' in text:\n",
    "            # if 'the person crouches and walks forward.' in text:\n",
    "            if len(text) < 100:\n",
    "                __break__ = True\n",
    "                print(i, m_length[i], text)\n",
    "                break\n",
    "        if __break__:\n",
    "            break\n",
    "m_length = m_length.cuda()\n",
    "base_pose = pose.cuda()\n",
    "\n",
    "''"
   ]
  },
  {
   "cell_type": "code",
   "execution_count": 157,
   "metadata": {},
   "outputs": [
    {
     "name": "stdout",
     "output_type": "stream",
     "text": [
      "0 124 a person takes two steps forward leading with their right foot rotates on their left foot 180 degrees and takes two steps back.\n",
      "1 196 standing on their right foot, a person flexes their knee forward and back and side to side, toward the right first and then the left.\n",
      "2 188 the person slides to their right 3 times, slides to their left 4 times, and slides to their left 2 times, ending at their original position.\n",
      "3 196 person squats down to their knees, and then begins to crawl around in random directions. seems to be playful\n",
      "4 144 a person walks diagonally to the left, bends over and picks up a few items, then continues walking\n",
      "5 196 a man sits down on the ground cross-legged and throws an object with his right hand.\n",
      "6 84 a person who is standing with his hands at his sides quickly runs forward and stops.\n",
      "7 64 the person steps back on their left leg before pitching a baseball forward.\n",
      "8 172 person was standing and straddled a chair and sat down.\n",
      "9 196 a man paces back and forth along the same line.\n",
      "10 192 a person standing in the same spot while rocking sideways.\n",
      "11 196 a figure repeatedly turns towards the right hand side\n",
      "12 88 a person is repeatedly raising and lowering their forearms.\n",
      "13 84 moving hands from side to side above head.\n",
      "14 64 a person walks forward quickly and then stops\n",
      "15 128 the man is kicking with his right hand\n",
      "16 192 person is doing an excercise with hands forward.\n",
      "17 60 character lifts both hands up to face twice.\n",
      "18 92 a person takes a small hop forward.\n",
      "19 124 sitting down on the ground then standing.\n",
      "20 104 a person strolls forward towards the right\n",
      "21 40 person walks quickly down a short incline\n",
      "22 40 a person is leaning to the right.\n",
      "23 144 a person walks in a clockwise circle.\n",
      "24 40 a man jumps from left to right.\n",
      "25 192 walking forward then to the side.\n",
      "26 76 a person doing a casual walk\n",
      "27 132 a person walks forward then stops.\n",
      "28 136 the person threw some thing forward.\n",
      "29 48 person moving arm in up motion\n",
      "30 156 this person is cleaning a table.\n",
      "31 152 a person stepping over something\n"
     ]
    }
   ],
   "source": [
    "word_embeddings, pos_one_hots, clip_text, sent_len, pose, m_length, token = next(iter(eval_val_loader))\n",
    "# clip_text, pose, m_length = next(iter(train_loader))\n",
    "m_length = m_length.cuda()\n",
    "base_pose = pose.cuda()\n",
    "for i in range(len(clip_text)):\n",
    "    # if len(clip_text[i]) < 100 and m_length[i]>=180: # \n",
    "    print(i, m_length[i].cpu().numpy(), clip_text[i])"
   ]
  },
  {
   "cell_type": "code",
   "execution_count": 15,
   "metadata": {},
   "outputs": [],
   "source": [
    "# 196 a person throws a shotput.\n",
    "# the person crouches and walks forward.\n"
   ]
  },
  {
   "cell_type": "code",
   "execution_count": 149,
   "metadata": {},
   "outputs": [
    {
     "data": {
      "text/plain": [
       "'a person stands up from a sit down position, then sits back down.'"
      ]
     },
     "execution_count": 149,
     "metadata": {},
     "output_type": "execute_result"
    }
   ],
   "source": [
    "i=13\n",
    "clip_text[i]"
   ]
  },
  {
   "cell_type": "code",
   "execution_count": null,
   "metadata": {},
   "outputs": [],
   "source": [
    "time_steps = 3\n",
    "cond_scale = 4\n",
    "mids = t2m_transformer.generate(clip_text, m_length, time_steps, cond_scale, temperature=1) # , temp=code_idx[..., 0]\n",
    "mids, pred_len = t2m_transformer.pad_when_end(mids)\n",
    "mids = res_model.generate(mids, clip_text, pred_len, temperature=1, cond_scale=5)\n",
    "# mids =  mids.unsqueeze_(-1)\n",
    "pred_motions = vq_model.forward_decoder(mids)[:, :196]\n",
    "\n",
    "k = i\n",
    "x = pred_motions[k].detach().cpu().numpy()\n",
    "l = pred_len[k]*4 # m_length[k] #\n",
    "visualize_2motions(x, val_loader.dataset.std, val_loader.dataset.mean, 't2m', l, base_pose[k].cpu().numpy())\n",
    "pred_len[k]*4, clip_text[k]"
   ]
  },
  {
   "cell_type": "code",
   "execution_count": null,
   "metadata": {},
   "outputs": [
    {
     "data": {
      "text/plain": [
       "(1, 50)"
      ]
     },
     "execution_count": 284,
     "metadata": {},
     "output_type": "execute_result"
    }
   ],
   "source": [
    "pred_probs.shape"
   ]
  },
  {
   "cell_type": "markdown",
   "metadata": {},
   "source": [
    "### Text to Motion (from Text)"
   ]
  },
  {
   "cell_type": "code",
   "execution_count": 14,
   "metadata": {},
   "outputs": [],
   "source": [
    "repeat = 100\n",
    "# a person appears to be ding jump rope until they fail\n",
    "# walking in a circle with hands up.\n",
    "# 'a person starts walking then starts leaping counterclockwise' # momask fails at 156\n",
    "# a person tip toeing in an l shape figure to the right. # momask not bad\n",
    "\n",
    "# [Momask Not fail]\n",
    "# A man starts off with both arms extended out by his sides. He then brings his arms down to his body and claps his hands together. After this, he walks down and to the right where he proceeds to sit on a seat.\n",
    "# [Cannot replicate]\n",
    "# A person ducks down to walk underneath a fence in front of them. Walk around something, then turn left again to climb up a something\n",
    "# [Momask Not fail]\n",
    "# the person slides to their right, slides to their left, and back forth, trying to move away  from something in a game\n",
    "clip_text1 = ['a person walks in a zig zag motion then comes to a halt'] * repeat\n",
    "m_length1 = torch.tensor([1]*repeat).cuda()\n",
    "mids = t2m_transformer.generate(clip_text1, m_length1, timesteps=3, cond_scale=4, temperature=1) # , temp=code_idx[..., 0]\n",
    "mids, pred_len = t2m_transformer.pad_when_end(mids)\n",
    "mids = res_model.generate(mids, clip_text1, pred_len, temperature=1, cond_scale=5)\n",
    "pred_motions = vq_model.forward_decoder(mids)[:, :196]"
   ]
  },
  {
   "cell_type": "code",
   "execution_count": 290,
   "metadata": {},
   "outputs": [],
   "source": [
    "# for i in range(len(pred_len)):\n",
    "#     # if pred_len[i] == 39:\n",
    "#     print(i, pred_len[i].cpu().detach().item())"
   ]
  },
  {
   "cell_type": "code",
   "execution_count": null,
   "metadata": {},
   "outputs": [],
   "source": [
    "i = 1\n",
    "x = pred_motions[i].detach().cpu().numpy()\n",
    "l = pred_len[i]*4 # m_length[k] #\n",
    "visualize_2motions(x, val_loader.dataset.std, val_loader.dataset.mean, 't2m', l)\n",
    "pred_len[i]*4, clip_text1[i]"
   ]
  },
  {
   "cell_type": "code",
   "execution_count": 272,
   "metadata": {},
   "outputs": [],
   "source": [
    "# i = 4\n",
    "# motion = pred_motions[i][: (pred_len[i]*4)].cpu().detach().numpy()\n",
    "np.save('./BAMM_a_person_starts_walking_then_starts_leaping_counterclockwise._156.npy.npy', pred_motions.cpu().detach())"
   ]
  },
  {
   "cell_type": "code",
   "execution_count": 24,
   "metadata": {},
   "outputs": [
    {
     "ename": "FileNotFoundError",
     "evalue": "[Errno 2] No such file or directory: 'crouch_walk_together_156.npy'",
     "output_type": "error",
     "traceback": [
      "\u001b[0;31m---------------------------------------------------------------------------\u001b[0m",
      "\u001b[0;31mFileNotFoundError\u001b[0m                         Traceback (most recent call last)",
      "\u001b[0;32m/tmp/ipykernel_3544073/2900277679.py\u001b[0m in \u001b[0;36m<module>\u001b[0;34m\u001b[0m\n\u001b[0;32m----> 1\u001b[0;31m \u001b[0mmotion\u001b[0m \u001b[0;34m=\u001b[0m \u001b[0mnp\u001b[0m\u001b[0;34m.\u001b[0m\u001b[0mload\u001b[0m\u001b[0;34m(\u001b[0m\u001b[0;34m'crouch_walk_together_156.npy'\u001b[0m\u001b[0;34m)\u001b[0m\u001b[0;34m\u001b[0m\u001b[0;34m\u001b[0m\u001b[0m\n\u001b[0m",
      "\u001b[0;32m~/miniconda3/envs/momask/lib/python3.7/site-packages/numpy/lib/npyio.py\u001b[0m in \u001b[0;36mload\u001b[0;34m(file, mmap_mode, allow_pickle, fix_imports, encoding)\u001b[0m\n\u001b[1;32m    415\u001b[0m             \u001b[0mown_fid\u001b[0m \u001b[0;34m=\u001b[0m \u001b[0;32mFalse\u001b[0m\u001b[0;34m\u001b[0m\u001b[0;34m\u001b[0m\u001b[0m\n\u001b[1;32m    416\u001b[0m         \u001b[0;32melse\u001b[0m\u001b[0;34m:\u001b[0m\u001b[0;34m\u001b[0m\u001b[0;34m\u001b[0m\u001b[0m\n\u001b[0;32m--> 417\u001b[0;31m             \u001b[0mfid\u001b[0m \u001b[0;34m=\u001b[0m \u001b[0mstack\u001b[0m\u001b[0;34m.\u001b[0m\u001b[0menter_context\u001b[0m\u001b[0;34m(\u001b[0m\u001b[0mopen\u001b[0m\u001b[0;34m(\u001b[0m\u001b[0mos_fspath\u001b[0m\u001b[0;34m(\u001b[0m\u001b[0mfile\u001b[0m\u001b[0;34m)\u001b[0m\u001b[0;34m,\u001b[0m \u001b[0;34m\"rb\"\u001b[0m\u001b[0;34m)\u001b[0m\u001b[0;34m)\u001b[0m\u001b[0;34m\u001b[0m\u001b[0;34m\u001b[0m\u001b[0m\n\u001b[0m\u001b[1;32m    418\u001b[0m             \u001b[0mown_fid\u001b[0m \u001b[0;34m=\u001b[0m \u001b[0;32mTrue\u001b[0m\u001b[0;34m\u001b[0m\u001b[0;34m\u001b[0m\u001b[0m\n\u001b[1;32m    419\u001b[0m \u001b[0;34m\u001b[0m\u001b[0m\n",
      "\u001b[0;31mFileNotFoundError\u001b[0m: [Errno 2] No such file or directory: 'crouch_walk_together_156.npy'"
     ]
    }
   ],
   "source": [
    "motion = np.load('crouch_walk_together_156.npy')"
   ]
  },
  {
   "cell_type": "code",
   "execution_count": 25,
   "metadata": {},
   "outputs": [
    {
     "ename": "NameError",
     "evalue": "name 'motion' is not defined",
     "output_type": "error",
     "traceback": [
      "\u001b[0;31m---------------------------------------------------------------------------\u001b[0m",
      "\u001b[0;31mNameError\u001b[0m                                 Traceback (most recent call last)",
      "\u001b[0;32m/tmp/ipykernel_3544073/2606599827.py\u001b[0m in \u001b[0;36m<module>\u001b[0;34m\u001b[0m\n\u001b[0;32m----> 1\u001b[0;31m \u001b[0mx\u001b[0m \u001b[0;34m=\u001b[0m \u001b[0mmotion\u001b[0m\u001b[0;34m\u001b[0m\u001b[0;34m\u001b[0m\u001b[0m\n\u001b[0m\u001b[1;32m      2\u001b[0m \u001b[0ml\u001b[0m \u001b[0;34m=\u001b[0m \u001b[0mmotion\u001b[0m\u001b[0;34m.\u001b[0m\u001b[0mshape\u001b[0m\u001b[0;34m[\u001b[0m\u001b[0;36m0\u001b[0m\u001b[0;34m]\u001b[0m\u001b[0;34m\u001b[0m\u001b[0;34m\u001b[0m\u001b[0m\n\u001b[1;32m      3\u001b[0m \u001b[0mvisualize_2motions\u001b[0m\u001b[0;34m(\u001b[0m\u001b[0mx\u001b[0m\u001b[0;34m,\u001b[0m \u001b[0mval_loader\u001b[0m\u001b[0;34m.\u001b[0m\u001b[0mdataset\u001b[0m\u001b[0;34m.\u001b[0m\u001b[0mstd\u001b[0m\u001b[0;34m,\u001b[0m \u001b[0mval_loader\u001b[0m\u001b[0;34m.\u001b[0m\u001b[0mdataset\u001b[0m\u001b[0;34m.\u001b[0m\u001b[0mmean\u001b[0m\u001b[0;34m,\u001b[0m \u001b[0;34m't2m'\u001b[0m\u001b[0;34m,\u001b[0m \u001b[0ml\u001b[0m\u001b[0;34m)\u001b[0m\u001b[0;34m\u001b[0m\u001b[0;34m\u001b[0m\u001b[0m\n",
      "\u001b[0;31mNameError\u001b[0m: name 'motion' is not defined"
     ]
    }
   ],
   "source": [
    "x = motion\n",
    "l = motion.shape[0]\n",
    "visualize_2motions(x, val_loader.dataset.std, val_loader.dataset.mean, 't2m', l)"
   ]
  },
  {
   "cell_type": "markdown",
   "metadata": {},
   "source": [
    "### DELETE ME"
   ]
  },
  {
   "cell_type": "code",
   "execution_count": null,
   "metadata": {},
   "outputs": [
    {
     "name": "stdout",
     "output_type": "stream",
     "text": [
      "3 tensor(49.) a man walks in a circle for 10 seconds to stretch his legs after sitting for an extended period of time.\n",
      "7 tensor(49.) a person walks forward carefully placing one foot directly in front of the other foot.\n",
      "13 tensor(49.) a person walks forward, turns, then sits, then stands and walks back\n",
      "15 tensor(49.) a person aggressively grabbing holding something before drinking it.\n",
      "19 tensor(49.) a person is leaning forward and reaching for something.\n",
      "23 tensor(49.) the person has washing his right arm.\n",
      "28 tensor(49.) person stands there and looks around.\n"
     ]
    }
   ],
   "source": [
    "__break__ = False\n",
    "while __break__ is False:\n",
    "    for word_embeddings, pos_one_hots, clip_text, sent_len, pose, m_length, token in eval_val_loader:\n",
    "        for i, text in enumerate(clip_text):\n",
    "            # if 'a person, whose hands is swaying front to back, is walking in a counter-clockwise circle while bringing their knees up as they walk.' in text:\n",
    "            #     __break__ = True\n",
    "            if m_length[i] >= 196:\n",
    "                print(i, m_length[i]/4, text)\n",
    "                __break__ = True\n",
    "                # break\n",
    "        if __break__:\n",
    "            break"
   ]
  },
  {
   "cell_type": "code",
   "execution_count": null,
   "metadata": {},
   "outputs": [],
   "source": [
    "# txt = ['the person is stretching arms out.']\n",
    "k = 1\n",
    "txt = [clip_text[k]]\n",
    "input_len = torch.tensor([49]).cuda()\n",
    "mids = t2m_transformer.generate(txt, input_len, timesteps = 3, cond_scale = 4, temperature=1) # , temp=code_idx[..., 0]\n",
    "mids, pred_len = t2m_transformer.pad_when_end(mids)\n",
    "mids = res_model.generate(mids, txt, pred_len, temperature=1, cond_scale=5)\n",
    "pred_motions = vq_model.forward_decoder(mids)[:, :196]\n",
    "\n",
    "x = pred_motions[0].detach().cpu().numpy()\n",
    "l = pred_len[0]*4 #pred_len[k]\n",
    "visualize_2motions(x, val_loader.dataset.std, val_loader.dataset.mean, 't2m', l, pose[k].cpu().numpy())"
   ]
  },
  {
   "cell_type": "markdown",
   "metadata": {},
   "source": [
    "### Edit (Generated Base)"
   ]
  },
  {
   "cell_type": "code",
   "execution_count": null,
   "metadata": {},
   "outputs": [],
   "source": [
    "time_steps = 3\n",
    "cond_scale = 4\n",
    "# base_text = ['a figure walks forward']\n",
    "base_text = ['a person walks forward.']\n",
    "cond_tokens = t2m_transformer.pad_id * torch.ones((1, 50), dtype=torch.long).cuda()\n",
    "cond_tokens = cond_tokens.scatter_(-1, torch.tensor([[49]]).cuda(), t2m_transformer.end_id).long() # add end token to tell model where to stop generating\n",
    "index_motion = t2m_transformer.edit2(base_text, cond_tokens)\n",
    "# index_motion = t2m_transformer.generate(base_text, m_length, time_steps, cond_scale, temperature=1)\n",
    "index_motion, pred_len = t2m_transformer.pad_when_end(index_motion)\n",
    "index_motion = res_model.generate(index_motion, base_text, pred_len, temperature=1, cond_scale=5)\n",
    "mids =  mids.unsqueeze_(-1)\n",
    "pred_motions = vq_model.forward_decoder(index_motion)[:, :196]\n",
    "\n",
    "k = 0\n",
    "x = pred_motions[k].detach().cpu().numpy()\n",
    "l = pred_len[k]*4 #pred_len[k]\n",
    "visualize_2motions(x, val_loader.dataset.std, val_loader.dataset.mean, 't2m', l)"
   ]
  },
  {
   "cell_type": "code",
   "execution_count": null,
   "metadata": {},
   "outputs": [],
   "source": [
    "gen_text = ['a person jump in place.']\n",
    "left = int(pred_len[k]/4)\n",
    "right = int(pred_len[k]-left-4)\n",
    "cond_tokens = index_motion.clone()\n",
    "cond_tokens[k, :left] = t2m_transformer.pad_id\n",
    "cond_tokens[k, right:] = t2m_transformer.pad_id\n",
    "cond_tokens = cond_tokens[..., 0]\n",
    "cond_tokens = cond_tokens.scatter_(-1, pred_len[..., None], t2m_transformer.end_id).long() # add end token to tell model where to stop generating\n",
    "mids = t2m_transformer.edit2(gen_text, cond_tokens)\n",
    "mids[k, pred_len[k]:] = t2m_transformer.pad_id\n",
    "mids = res_model.generate(mids, gen_text, pred_len, temperature=1, cond_scale=5)\n",
    "pred_motions = vq_model.forward_decoder(mids)[:, :196]\n",
    "\n",
    "x = pred_motions[k].detach().cpu().numpy()\n",
    "l = pred_len[k] * 4\n",
    "caption = text[k]\n",
    "visualize_2motions(x, val_loader.dataset.std, val_loader.dataset.mean, 't2m', l)"
   ]
  },
  {
   "cell_type": "code",
   "execution_count": null,
   "metadata": {},
   "outputs": [],
   "source": [
    "# np.save('outpainting.npy', x)\n",
    "# x = np.load('./outpainting.npy')\n",
    "# l = x.shape[0]\n",
    "# caption = text[k]\n",
    "# visualize_2motions(x, val_loader.dataset.std, val_loader.dataset.mean, 't2m', l)"
   ]
  },
  {
   "cell_type": "markdown",
   "metadata": {},
   "source": [
    "### Edit (Test Set Base)"
   ]
  },
  {
   "cell_type": "code",
   "execution_count": null,
   "metadata": {},
   "outputs": [
    {
     "name": "stdout",
     "output_type": "stream",
     "text": [
      "0 tensor(196) a person walks up to shake with their left hand, turns slightly left to shake again, and turns left again to shake for a final time.\n"
     ]
    },
    {
     "data": {
      "text/plain": [
       "''"
      ]
     },
     "execution_count": 34,
     "metadata": {},
     "output_type": "execute_result"
    }
   ],
   "source": [
    "__break__ = False\n",
    "while __break__ is False:\n",
    "    for word_embeddings, pos_one_hots, clip_text, sent_len, pose, m_length, token in eval_val_loader:\n",
    "        for i, text in enumerate(clip_text):\n",
    "            # if True: #'cartwheel' in text:\n",
    "            # if 'a person walks forward then turns completely around and does a cartwheel.' in text:\n",
    "            # if 'a person who is standing moves his body and shoulders slightly to the left and returns to his original position.' in text:\n",
    "            # if 'person carefully kneels down. first with right leg, then with the left one.' in text:\n",
    "            # if 'a person walks forward then turns completely around and does a cartwheel.' in text:\n",
    "            # if 'a person with their arms out from their sides, walks to the left trying to balance.' in text:\n",
    "            # if 'a person walks forward, then is pushed to their left and then returns to walking in the line they were.' in text:\n",
    "            if 'walk' in text:\n",
    "                __break__ = True\n",
    "                print(i, m_length[i], text)\n",
    "                break\n",
    "        if __break__:\n",
    "            break\n",
    "m_length = m_length[i:i+1].cuda()\n",
    "base_pose = pose[i:i+1].cuda()\n",
    "\n",
    "''"
   ]
  },
  {
   "cell_type": "code",
   "execution_count": null,
   "metadata": {},
   "outputs": [],
   "source": [
    "gen_text = ['A person sits down.']\n",
    "bs, seq = pose.shape[:2]\n",
    "\n",
    "# cond prefix tokens\n",
    "# half_l = int(m_length/2) # condition by first half\n",
    "# token_length = (m_length/4).long() # downsampling 4 times\n",
    "# cond_tokens = t2m_transformer.pad_id * torch.ones((1, 50), dtype=torch.long).cuda()\n",
    "\n",
    "# index_motion, _ = vq_model.encode(base_pose[:, :half_l].cuda())\n",
    "# index_motion = index_motion[..., 0]\n",
    "\n",
    "# cond_tokens[:, :index_motion.shape[1]] = index_motion\n",
    "# cond_tokens = cond_tokens.scatter_(-1, token_length[..., None], t2m_transformer.end_id).long() # add end token to tell model where to stop generating\n",
    "\n",
    "\n",
    "# cond outpainting\n",
    "tokens = t2m_transformer.pad_id * torch.ones((bs, 50), dtype=torch.long).cuda()\n",
    "m_token_length = torch.ceil((m_length)/4).int().cpu().numpy()\n",
    "m_token_length_init = (m_token_length * .25).astype(int)\n",
    "m_length_init = (m_length * .25).int()\n",
    "\n",
    "k=0\n",
    "l = m_length_init[k]\n",
    "l_token = m_token_length_init[k]\n",
    "\n",
    "index_motion, _ = vq_model.encode(pose[k:k+1, l:m_length[k]-l].cuda())\n",
    "index_motion = index_motion[..., 0]\n",
    "tokens[k, l_token: l_token+index_motion.shape[1]] = index_motion[0]\n",
    "cond_tokens = tokens[k:k+1]\n",
    "\n",
    "\n",
    "mids = t2m_transformer.edit2(gen_text, cond_tokens)\n",
    "mids, pred_len = t2m_transformer.pad_when_end(mids)\n",
    "mids = res_model.generate(mids, gen_text, pred_len, temperature=1, cond_scale=5)\n",
    "# mids =  mids.unsqueeze_(-1)\n",
    "pred_motions = vq_model.forward_decoder(mids)[:, :196]"
   ]
  },
  {
   "cell_type": "code",
   "execution_count": null,
   "metadata": {},
   "outputs": [],
   "source": [
    "k = 0\n",
    "x = pred_motions[k].detach().cpu().numpy()\n",
    "l = m_length[k]\n",
    "caption = text[k]\n",
    "visualize_2motions(x, val_loader.dataset.std, val_loader.dataset.mean, 't2m', l, base_pose[i].detach().cpu().numpy())"
   ]
  },
  {
   "cell_type": "markdown",
   "metadata": {},
   "source": []
  },
  {
   "cell_type": "markdown",
   "metadata": {},
   "source": [
    "### Longrange"
   ]
  },
  {
   "cell_type": "code",
   "execution_count": null,
   "metadata": {},
   "outputs": [],
   "source": [
    "time_steps = 3\n",
    "cond_scale = 4\n",
    "clip_text = ['a person is doing a salsa dance moving their legs and arms.',\n",
    "             'a figure sits on the chair.',\n",
    "            #  'a person squatting raises both their arms above their head.',\n",
    "             'a man jump forward.',\n",
    "             'a person punches as if they are boxing.',\n",
    "             'A woman crawl around.',\n",
    "             'A person is running forward in a long line.'\n",
    "             ]\n",
    "m_length = torch.tensor([0]).cuda()\n",
    "mids = t2m_transformer.generate(clip_text, m_length, time_steps, cond_scale, temperature=1) # , temp=code_idx[..., 0]\n",
    "mids, pred_len = t2m_transformer.pad_when_end(mids)\n",
    "mids = res_model.generate(mids, clip_text, pred_len, temperature=1, cond_scale=5)\n",
    "# mids =  mids.unsqueeze_(-1)\n",
    "pred_motions = vq_model.forward_decoder(mids)[:, :196]\n",
    "\n",
    "k = 0\n",
    "x = pred_motions[k].detach().cpu().numpy()\n",
    "l = pred_len[k]*4 #pred_len[k]\n",
    "visualize_2motions(x, val_loader.dataset.std, val_loader.dataset.mean, 't2m', l)"
   ]
  },
  {
   "cell_type": "code",
   "execution_count": null,
   "metadata": {},
   "outputs": [],
   "source": [
    "num_transition_token = 2\n",
    "b = mids.shape[0]\n",
    "\n",
    "half_token_length = (pred_len/2).int()\n",
    "idx_full_len = half_token_length >= 24\n",
    "half_token_length[idx_full_len] = half_token_length[idx_full_len] - 1\n",
    "tokens = -1 * torch.ones((b-1, 50), dtype=torch.long).cuda()\n",
    "transition_train_length = []\n",
    "for i in range(b-1):\n",
    "    i_index_motion = mids[i ,: , 0]\n",
    "    i1_index_motion = mids[i+1 ,: , 0]\n",
    "\n",
    "    left_end = half_token_length[i]\n",
    "    right_start = left_end + num_transition_token\n",
    "    end = right_start + half_token_length[i+1]\n",
    "\n",
    "    tokens[i, :left_end] = i_index_motion[pred_len[i]-left_end: pred_len[i]]\n",
    "    tokens[i, left_end:right_start] = t2m_transformer.pad_id\n",
    "    tokens[i, right_start:end] = i1_index_motion[:half_token_length[i+1]]\n",
    "    transition_train_length.append(end)\n",
    "transition_train_length = torch.tensor(transition_train_length).to(mids.device).long()\n",
    "tokens = tokens.scatter_(-1, transition_train_length[..., None], t2m_transformer.end_id).long() # add end token to tell model where to stop generating\n",
    "inpainting_mask = tokens == t2m_transformer.pad_id\n",
    "tokens[tokens == -1] = t2m_transformer.pad_id\n",
    "inpaint_index = t2m_transformer.edit2(None, tokens)\n",
    "\n",
    "# residual \n",
    "all_tokens = []\n",
    "for i in range(b-1):\n",
    "    all_tokens.append(mids[i, :pred_len[i]])\n",
    "\n",
    "    inpaint_all = inpaint_index[i, inpainting_mask[i]].unsqueeze(-1)\n",
    "    inpaint_all = torch.nn.functional.pad(inpaint_all,  (0, 5),  value = -1)\n",
    "    all_tokens.append(inpaint_all)\n",
    "all_tokens.append(mids[-1, :pred_len[-1]])\n",
    "all_tokens = torch.cat(all_tokens).unsqueeze(0)\n",
    "\n",
    "# "
   ]
  },
  {
   "cell_type": "code",
   "execution_count": null,
   "metadata": {},
   "outputs": [],
   "source": [
    "pred_motions = vq_model.forward_decoder(all_tokens)\n",
    "k = 0\n",
    "x = pred_motions[k].detach().cpu().numpy()[:1000]\n",
    "l = pred_motions.shape[1]\n",
    "visualize_2motions(x, val_loader.dataset.std, val_loader.dataset.mean, 't2m', l, save_path='./longrange.html')"
   ]
  },
  {
   "cell_type": "code",
   "execution_count": null,
   "metadata": {},
   "outputs": [],
   "source": [
    "# np.save('longrange.npy', pred_motions[0].detach().cpu().numpy())\n",
    "# clip_text, pred_len*4"
   ]
  },
  {
   "cell_type": "markdown",
   "metadata": {},
   "source": [
    "### Eval\n",
    "For testing load the correct model"
   ]
  },
  {
   "cell_type": "code",
   "execution_count": null,
   "metadata": {},
   "outputs": [
    {
     "name": "stderr",
     "output_type": "stream",
     "text": [
      "  0%|          | 0/145 [00:00<?, ?it/s]"
     ]
    },
    {
     "name": "stderr",
     "output_type": "stream",
     "text": [
      "100%|██████████| 145/145 [01:45<00:00,  1.37it/s]"
     ]
    },
    {
     "name": "stdout",
     "output_type": "stream",
     "text": [
      "--> \t Eva. Ep 0 :, FID. 0.0799, Diversity Real. 9.5846, Diversity. 9.9658, R_precision_real. [0.51551724 0.70603448 0.79892241], R_precision. [0.50581897 0.68771552 0.78599138], matching_score_real. 2.978284403373455, matching_score_pred. 3.0599816914262443\n",
      "./Test/FID 0.0799292176316726 0\n",
      "./Test/Diversity 9.965841 0\n",
      "./Test/top1 0.5058189655172414 0\n",
      "./Test/top2 0.6877155172413794 0\n",
      "./Test/top3 0.7859913793103448 0\n",
      "./Test/matching_score 3.0599816914262443 0\n",
      "--> --> \t FID Improved from 100.00000 to 0.07993 !!!\n",
      "--> --> \t matching_score Improved from 100.00000 to 3.05998 !!!\n",
      "--> --> \t Diversity Improved from 100.00000 to 9.96584 !!!\n",
      "--> --> \t Top1 Improved from 0.0000 to 0.5058 !!!\n",
      "--> --> \t Top2 Improved from 0.0000 to 0.6877 !!!\n",
      "--> --> \t Top3 Improved from 0.0000 to 0.7860 !!!\n"
     ]
    },
    {
     "name": "stderr",
     "output_type": "stream",
     "text": [
      "\n"
     ]
    }
   ],
   "source": [
    "from utils.eval_t2m import evaluation_mask_transformer\n",
    "class LoggerWriterMock:\n",
    "    def __init__(self):\n",
    "        self.info\n",
    "    def info(self, *args):\n",
    "        print(*args)\n",
    "    def add_scalar(self, *args):\n",
    "        print(*args)\n",
    "    def add_video(self, *args):\n",
    "        print(*args)\n",
    "logger = LoggerWriterMock()\n",
    "best_fid, best_div, best_top1, best_top2, best_top3, best_matching, writer = evaluation_mask_transformer(\n",
    "        'opt.save_root', eval_val_loader, t2m_transformer, vq_model, logger, 0,\n",
    "        best_fid=100, best_div=100,\n",
    "        best_top1=0, best_top2=0, best_top3=0,\n",
    "        best_matching=100, eval_wrapper=eval_wrapper,\n",
    "        plot_func=lambda x:x, save_ckpt=False, save_anim=False\n",
    "    )"
   ]
  },
  {
   "cell_type": "markdown",
   "metadata": {},
   "source": [
    "### Length Estimator"
   ]
  },
  {
   "cell_type": "code",
   "execution_count": null,
   "metadata": {},
   "outputs": [],
   "source": [
    "from models.len_predictor_modules import MotionLenEstimatorBiGRU\n",
    "from utils.word_vectorizer import WordVectorizer, POS_enumerator\n",
    "from torch.distributions.categorical import Categorical\n",
    "unit_length = 4\n",
    "dim_word = 300\n",
    "dim_pos_ohot = len(POS_enumerator)\n",
    "num_classes = 200 // unit_length\n",
    "estimator = MotionLenEstimatorBiGRU(dim_word, dim_pos_ohot, 512, num_classes)\n",
    "\n",
    "cp = '/home/epinyoan/git/momask-codes/checkpoints/t2m/length_est_bigru/model/latest.tar'\n",
    "checkpoints = torch.load(cp, map_location='cpu')\n",
    "estimator.load_state_dict(checkpoints['estimator'], strict=True)\n",
    "estimator.cuda()\n",
    "estimator.eval()\n",
    "softmax = torch.nn.Softmax(-1)\n",
    "\n",
    "def m_len_estimator(word_embeddings, pos_one_hots, sent_len):\n",
    "    pred_probs = estimator(word_embeddings.cuda().float(), pos_one_hots.cuda().float(), sent_len).detach()\n",
    "    pred_probs = softmax(pred_probs)\n",
    "    pred_tok_len = pred_probs.argsort(dim=-1, descending=True)[:, :5][..., 0]\n",
    "    # pred_tok_len = Categorical(pred_probs).sample()  # (b, seqlen)\n",
    "    # pred_tok_len = torch.multinomial(pred_probs, 1, replacement=True).squeeze()\n",
    "    return pred_tok_len # token"
   ]
  },
  {
   "cell_type": "code",
   "execution_count": null,
   "metadata": {},
   "outputs": [
    {
     "name": "stdout",
     "output_type": "stream",
     "text": [
      "Reading ./checkpoints/t2m/Comp_v6_KLD005/opt.txt\n",
      "Loading dataset t2m ...\n"
     ]
    },
    {
     "name": "stderr",
     "output_type": "stream",
     "text": [
      "  0%|          | 0/4384 [00:00<?, ?it/s]"
     ]
    },
    {
     "name": "stderr",
     "output_type": "stream",
     "text": [
      "100%|██████████| 4384/4384 [00:01<00:00, 2655.14it/s]\n"
     ]
    },
    {
     "name": "stdout",
     "output_type": "stream",
     "text": [
      "Pointer Pointing at 0\n",
      "Ground Truth Dataset Loading Completed!!!\n"
     ]
    },
    {
     "name": "stderr",
     "output_type": "stream",
     "text": [
      "100%|██████████| 5/5 [00:02<00:00,  1.70it/s]\n"
     ]
    },
    {
     "data": {
      "text/plain": [
       "(tensor(1232, device='cuda:0'), tensor(3416, device='cuda:0'))"
      ]
     },
     "execution_count": 267,
     "metadata": {},
     "output_type": "execute_result"
    }
   ],
   "source": [
    "from tqdm import tqdm \n",
    "len_estimate_type = '' #'BAMM' \n",
    "eval_val_loader, _ = get_dataset_motion_loader(dataset_opt_path, 1024, 'test', device=opt.device, drop_last=False, shuffle=False)\n",
    "all_diff_len = None\n",
    "for word_embeddings, pos_one_hots, clip_text, sent_len, pose, m_length, token in tqdm(eval_val_loader):\n",
    "    if len_estimate_type == 'BAMM':\n",
    "        mids = t2m_transformer.generate(clip_text, m_length.cuda(), timesteps = 3, cond_scale = 4, temperature=1) # , temp=code_idx[..., 0]\n",
    "        mids, pred_len = t2m_transformer.pad_when_end(mids)\n",
    "        pred_len = pred_len * 4\n",
    "    else:\n",
    "        pred_len = m_len_estimator(word_embeddings, pos_one_hots, sent_len) * 4\n",
    "    diff_len = pred_len - m_length.cuda()\n",
    "    if all_diff_len is None:\n",
    "        all_diff_len = diff_len\n",
    "    else:\n",
    "        all_diff_len = torch.cat([all_diff_len, diff_len])\n",
    "all_diff_len\n",
    "(all_diff_len == 0).sum(), (all_diff_len != 0).sum()"
   ]
  },
  {
   "cell_type": "code",
   "execution_count": null,
   "metadata": {},
   "outputs": [],
   "source": [
    "# (tensor(530, device='cuda:0'), tensor(3566, device='cuda:0'))\n",
    "BAMM_all_diff_len = all_diff_len"
   ]
  },
  {
   "cell_type": "code",
   "execution_count": null,
   "metadata": {},
   "outputs": [],
   "source": [
    "# (tensor(1753, device='cuda:0'), tensor(2343, device='cuda:0'))\n",
    "T2M_all_diff_len = all_diff_len"
   ]
  },
  {
   "cell_type": "code",
   "execution_count": null,
   "metadata": {},
   "outputs": [
    {
     "name": "stderr",
     "output_type": "stream",
     "text": [
      "/home/epinyoan/miniconda3/envs/momask/lib/python3.7/site-packages/numpy/core/fromnumeric.py:3208: VisibleDeprecationWarning:\n",
      "\n",
      "Creating an ndarray from ragged nested sequences (which is a list-or-tuple of lists-or-tuples-or ndarrays with different lengths or shapes) is deprecated. If you meant to do this, you must specify 'dtype=object' when creating the ndarray.\n",
      "\n",
      "/home/epinyoan/miniconda3/envs/momask/lib/python3.7/site-packages/matplotlib/cbook/__init__.py:1449: VisibleDeprecationWarning:\n",
      "\n",
      "Creating an ndarray from ragged nested sequences (which is a list-or-tuple of lists-or-tuples-or ndarrays with different lengths or shapes) is deprecated. If you meant to do this, you must specify 'dtype=object' when creating the ndarray.\n",
      "\n"
     ]
    },
    {
     "data": {
      "image/png": "[encoded data removed]",
      "text/plain": [
       "<Figure size 640x480 with 1 Axes>"
      ]
     },
     "metadata": {},
     "output_type": "display_data"
    }
   ],
   "source": [
    "plt.hist([T2M_all_diff_len.detach().cpu().numpy(), \n",
    "            BAMM_all_diff_len.detach().cpu().numpy()], \n",
    "            label=['text2length', 'BAMM'])\n",
    "plt.legend(loc='upper right')\n",
    "plt.show()"
   ]
  },
  {
   "cell_type": "markdown",
   "metadata": {},
   "source": [
    "### Text2Length custom prompt"
   ]
  },
  {
   "cell_type": "code",
   "execution_count": null,
   "metadata": {},
   "outputs": [],
   "source": [
    "from utils.word_vectorizer import WordVectorizer\n",
    "w_vectorizer = WordVectorizer('./glove', 'our_vab')"
   ]
  },
  {
   "cell_type": "code",
   "execution_count": null,
   "metadata": {},
   "outputs": [],
   "source": [
    "clip_text = ['a person dances with one leg']\n",
    "tokens = ['sos/OTHER', 'a/DET', 'person/NOUN', 'dances/VERB', 'with/ADP', 'one/NUM', 'leg/NOUN', 'eos/OTHER']\n",
    "tokens = tokens + ['unk/OTHER'] * (22 - len(tokens))\n",
    "\n",
    "pos_one_hots = []\n",
    "word_embeddings = []\n",
    "for token in tokens:\n",
    "    word_emb, pos_oh = w_vectorizer[token]\n",
    "    pos_one_hots.append(pos_oh[None, :])\n",
    "    word_embeddings.append(word_emb[None, :])\n",
    "pos_one_hots = np.concatenate(pos_one_hots, axis=0)\n",
    "pos_one_hots = torch.from_numpy(pos_one_hots[np.newaxis, ...])\n",
    "word_embeddings = np.concatenate(word_embeddings, axis=0)\n",
    "word_embeddings = torch.from_numpy(word_embeddings[np.newaxis, ...])"
   ]
  },
  {
   "cell_type": "code",
   "execution_count": null,
   "metadata": {},
   "outputs": [],
   "source": [
    "prob = estimator(word_embeddings.cuda().float(), pos_one_hots.cuda().float(), torch.tensor([len(clip_text)])).detach()\n",
    "prob = softmax(prob)\n",
    "prob = prob.detach().cpu().numpy()\n",
    "\n",
    "plt.bar(np.arange(prob.shape[1]), prob[0])"
   ]
  },
  {
   "cell_type": "markdown",
   "metadata": {},
   "source": [
    "### BAMM len Single Prompt"
   ]
  },
  {
   "cell_type": "code",
   "execution_count": null,
   "metadata": {},
   "outputs": [
    {
     "name": "stdout",
     "output_type": "stream",
     "text": [
      "Reading ./checkpoints/t2m/Comp_v6_KLD005/opt.txt\n",
      "Loading dataset t2m ...\n"
     ]
    },
    {
     "name": "stderr",
     "output_type": "stream",
     "text": [
      "  0%|          | 0/4384 [00:00<?, ?it/s]"
     ]
    },
    {
     "name": "stderr",
     "output_type": "stream",
     "text": [
      "100%|██████████| 4384/4384 [00:01<00:00, 2366.98it/s]"
     ]
    },
    {
     "name": "stdout",
     "output_type": "stream",
     "text": [
      "Pointer Pointing at 0\n",
      "Ground Truth Dataset Loading Completed!!!\n"
     ]
    },
    {
     "name": "stderr",
     "output_type": "stream",
     "text": [
      "\n"
     ]
    }
   ],
   "source": [
    "eval_val_loader, _ = get_dataset_motion_loader(dataset_opt_path, 32, 'test', device=opt.device, drop_last=False, shuffle=True)"
   ]
  },
  {
   "cell_type": "code",
   "execution_count": null,
   "metadata": {},
   "outputs": [
    {
     "name": "stdout",
     "output_type": "stream",
     "text": [
      "0 tensor(42.) a person takes a step forward, turns around and walks back behind them, then turns around to face their front.\n",
      "1 tensor(49.) a person moves forward then left while making the motion of shaking the hands with the right arm, both arms and then the right arm again.\n",
      "2 tensor(24.) a man walks forward turns to the right and then walks back in the direct he came.\n",
      "3 tensor(16.) a person steps back with his left leg, dragging his right leg on the ground.\n",
      "4 tensor(23.) a person sways to swing their right foot followed by their left foot.\n",
      "5 tensor(29.) a person with their knees on the ground and their hands, gets up.\n",
      "6 tensor(12.) a person drives forward to the right and then curves to the left.\n",
      "7 tensor(35.) a man walks forward before stumbling backwards and the continues walking forward.\n",
      "8 tensor(48.) man man jumps up throws a ball high, then throws another lowe.\n",
      "9 tensor(42.) a person raises their arm and takes a small step forward\n",
      "10 tensor(48.) the person is walking forward and turn around like a monster\n",
      "11 tensor(25.) stick figure bends over picks somthing up then starts walking forward\n",
      "12 tensor(38.) a person sits with their legs crossed and then stands up.\n",
      "13 tensor(9.) a person steps backwards with their right foot and stretches.\n",
      "14 tensor(26.) a person casually takes a few steps forward before stopping.\n",
      "15 tensor(22.) a person jumps straight up with both arms down.\n",
      "16 tensor(38.) the person is sitting down i think scratching head.\n",
      "17 tensor(39.) a person slowly walks forward and then turns around.\n",
      "18 tensor(49.) a person walks forward in a normal fashion\n",
      "19 tensor(48.) the person is balancing on his left foot.\n",
      "20 tensor(16.) a person is walking in a straight line.\n",
      "21 tensor(41.) a man sits down, then gets back up.\n",
      "22 tensor(22.) the body wake gracefully with arms out straight.\n",
      "23 tensor(48.) a person walks in a counter clockwise circle.\n",
      "24 tensor(12.) a person stands with a wide defensive stance.\n",
      "25 tensor(37.) a person walks while dragging his feet.\n",
      "26 tensor(40.) a person steps carefully while walking forwards.\n",
      "27 tensor(34.) person is doing a ballet dance\n",
      "28 tensor(32.) person is kicking an athletic ball\n",
      "29 tensor(39.) a man steps backwards slowly.\n",
      "30 tensor(15.) a person bounced six times.\n",
      "31 tensor(27.) a person pitching a baseballl\n"
     ]
    }
   ],
   "source": [
    "__break__ = False\n",
    "while __break__ is False:\n",
    "    for word_embeddings, pos_one_hots, clip_text, sent_len, pose, m_length, token in eval_val_loader:\n",
    "        for i, text in enumerate(clip_text):\n",
    "            # if 'jump' in text:\n",
    "            __break__ = True\n",
    "            print(i, m_length[i]/4, text)\n",
    "                # break\n",
    "        if __break__:\n",
    "            break"
   ]
  },
  {
   "cell_type": "code",
   "execution_count": null,
   "metadata": {},
   "outputs": [
    {
     "data": {
      "text/plain": [
       "(array([0.  , 0.  , 0.  , 0.  , 0.  , 0.  , 0.  , 0.  , 0.  , 0.  , 0.  ,\n",
       "        0.  , 0.  , 0.  , 0.02, 0.06, 0.15, 0.43, 0.16, 0.14, 0.03, 0.  ,\n",
       "        0.  , 0.01, 0.  , 0.  , 0.  , 0.  , 0.  , 0.  , 0.  , 0.  , 0.  ,\n",
       "        0.  , 0.  , 0.  , 0.  , 0.  , 0.  , 0.  , 0.  , 0.  , 0.  , 0.  ,\n",
       "        0.  , 0.  , 0.  , 0.  , 0.  ]),\n",
       " array([ 0,  1,  2,  3,  4,  5,  6,  7,  8,  9, 10, 11, 12, 13, 14, 15, 16,\n",
       "        17, 18, 19, 20, 21, 22, 23, 24, 25, 26, 27, 28, 29, 30, 31, 32, 33,\n",
       "        34, 35, 36, 37, 38, 39, 40, 41, 42, 43, 44, 45, 46, 47, 48, 49]),\n",
       " <a list of 49 Patch objects>)"
      ]
     },
     "execution_count": 25,
     "metadata": {},
     "output_type": "execute_result"
    },
    {
     "data": {
      "image/png": "[encoded data removed]",
      "text/plain": [
       "<Figure size 640x480 with 1 Axes>"
      ]
     },
     "metadata": {},
     "output_type": "display_data"
    }
   ],
   "source": [
    "i = 9\n",
    "mids = t2m_transformer.generate([clip_text[i]]*100, m_length.cuda(), timesteps = 3, cond_scale = 4, temperature=1) # , temp=code_idx[..., 0]\n",
    "mids, pred_len = t2m_transformer.pad_when_end(mids)\n",
    "# plt.bar(bins[:-1], counts/1e3, label=\"Bars 1\") # , color=\"blue\"\n",
    "density, bins = np.histogram(pred_len.detach().cpu().numpy(), bins=np.arange(50))\n",
    "unity_density = density / density.sum()\n",
    "plt.hist(bins[:-1], bins, weights=unity_density)"
   ]
  }
 ],
 "metadata": {
  "kernelspec": {
   "display_name": "momask",
   "language": "python",
   "name": "python3"
  },
  "language_info": {
   "codemirror_mode": {
    "name": "ipython",
    "version": 3
   },
   "file_extension": ".py",
   "mimetype": "text/x-python",
   "name": "python",
   "nbconvert_exporter": "python",
   "pygments_lexer": "ipython3",
   "version": "3.7.13"
  }
 },
 "nbformat": 4,
 "nbformat_minor": 2
}
